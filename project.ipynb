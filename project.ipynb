{
 "cells": [
  {
   "cell_type": "code",
   "execution_count": 95,
   "id": "a4be9ac8",
   "metadata": {},
   "outputs": [],
   "source": [
    "import numpy as np\n",
    "from tensorflow import keras\n",
    "from tensorflow.keras.utils import image_dataset_from_directory"
   ]
  },
  {
   "cell_type": "code",
   "execution_count": 96,
   "id": "22d7fab0",
   "metadata": {},
   "outputs": [],
   "source": [
    "from tensorflow.keras.models import Sequential\n",
    "import tensorflow as tf\n",
    "from tensorflow import keras\n",
    "from tensorflow.keras import layers\n",
    "from tensorflow.keras.models import Model\n",
    "from keras.layers import Input,Conv2D,MaxPooling2D,Dense,UpSampling2D,BatchNormalization,Flatten,Dropout"
   ]
  },
  {
   "cell_type": "code",
   "execution_count": 97,
   "id": "df41a160",
   "metadata": {},
   "outputs": [],
   "source": [
    "base_dir = \".\\Desktop\\dataset\\Data\""
   ]
  },
  {
   "cell_type": "code",
   "execution_count": 98,
   "id": "0d779b9a",
   "metadata": {},
   "outputs": [],
   "source": [
    "import os, shutil"
   ]
  },
  {
   "cell_type": "code",
   "execution_count": 99,
   "id": "847d0bb7",
   "metadata": {},
   "outputs": [],
   "source": [
    "train_dir = os.path.join(base_dir,\"train\")\n",
    "test_dir = os.path.join(base_dir,\"test\")\n",
    "valid_dir = os.path.join(base_dir,\"valid\")\n",
    "train_acc = os.path.join(train_dir,\"adenocarcinoma\")\n",
    "train_lcc = os.path.join(train_dir,\"large.cell.carcinoma\")\n",
    "train_scc = os.path.join(train_dir,\"squamous.cell.carcinoma\")\n",
    "train_normal = os.path.join(train_dir,\"normal\")\n",
    "test_acc = os.path.join(test_dir,\"adenocarcinoma_left.lower\")\n",
    "test_lcc = os.path.join(test_dir,\"large.cell.carcinoma\")\n",
    "test_scc = os.path.join(test_dir,\"squamous.cell.carcinoma\")\n",
    "test_normal = os.path.join(test_dir,\"normal\")\n",
    "valid_acc = os.path.join(valid_dir,\"adenocarcinoma_left.lower\")\n",
    "valid_lcc = os.path.join(valid_dir,\"large.cell.carcinoma\")\n",
    "valid_scc = os.path.join(valid_dir,\"squamous.cell.carcinoma\")\n",
    "valid_normal = os.path.join(valid_dir,\"normal\")"
   ]
  },
  {
   "cell_type": "code",
   "execution_count": 100,
   "id": "d7585777",
   "metadata": {},
   "outputs": [],
   "source": [
    "import pathlib \n",
    "train_acc = pathlib.Path(train_acc)\n",
    "train_lcc = pathlib.Path(train_lcc)\n",
    "train_scc = pathlib.Path(train_scc)\n",
    "train_normal = pathlib.Path(train_normal)"
   ]
  },
  {
   "cell_type": "code",
   "execution_count": 101,
   "id": "6d515d57",
   "metadata": {},
   "outputs": [],
   "source": [
    "train_images_dict = {\n",
    "    \"adenocarcinoma\":list(train_acc.glob('*.png')),\n",
    "    \"large_cell_carcinoma\":list(train_lcc.glob('*.png')),\n",
    "    \"squamous_cell_carcinoma\":list(train_scc.glob('*.png')),\n",
    "    \"normal\":list(train_normal.glob('*.png'))\n",
    "}"
   ]
  },
  {
   "cell_type": "code",
   "execution_count": 102,
   "id": "731a54d6",
   "metadata": {},
   "outputs": [
    {
     "data": {
      "text/plain": [
       "[WindowsPath('Desktop/dataset/Data/train/adenocarcinoma/000000 (6).png'),\n",
       " WindowsPath('Desktop/dataset/Data/train/adenocarcinoma/000005 (3).png'),\n",
       " WindowsPath('Desktop/dataset/Data/train/adenocarcinoma/000005 (9).png'),\n",
       " WindowsPath('Desktop/dataset/Data/train/adenocarcinoma/000008 (10).png'),\n",
       " WindowsPath('Desktop/dataset/Data/train/adenocarcinoma/000009 (3).png'),\n",
       " WindowsPath('Desktop/dataset/Data/train/adenocarcinoma/000009 (7).png'),\n",
       " WindowsPath('Desktop/dataset/Data/train/adenocarcinoma/000013 (4).png'),\n",
       " WindowsPath('Desktop/dataset/Data/train/adenocarcinoma/000013 (8).png'),\n",
       " WindowsPath('Desktop/dataset/Data/train/adenocarcinoma/000014 (7).png'),\n",
       " WindowsPath('Desktop/dataset/Data/train/adenocarcinoma/000015 (10).png'),\n",
       " WindowsPath('Desktop/dataset/Data/train/adenocarcinoma/000015 (4).png'),\n",
       " WindowsPath('Desktop/dataset/Data/train/adenocarcinoma/000015 (9).png'),\n",
       " WindowsPath('Desktop/dataset/Data/train/adenocarcinoma/000016 (9).png'),\n",
       " WindowsPath('Desktop/dataset/Data/train/adenocarcinoma/000017 (6).png'),\n",
       " WindowsPath('Desktop/dataset/Data/train/adenocarcinoma/000017 (8).png'),\n",
       " WindowsPath('Desktop/dataset/Data/train/adenocarcinoma/000018 (5).png'),\n",
       " WindowsPath('Desktop/dataset/Data/train/adenocarcinoma/000019 (5).png'),\n",
       " WindowsPath('Desktop/dataset/Data/train/adenocarcinoma/000020 (10).png'),\n",
       " WindowsPath('Desktop/dataset/Data/train/adenocarcinoma/000020 (5).png'),\n",
       " WindowsPath('Desktop/dataset/Data/train/adenocarcinoma/000020 (6).png'),\n",
       " WindowsPath('Desktop/dataset/Data/train/adenocarcinoma/000021 (3).png'),\n",
       " WindowsPath('Desktop/dataset/Data/train/adenocarcinoma/000021 (4).png'),\n",
       " WindowsPath('Desktop/dataset/Data/train/adenocarcinoma/000021 (5).png'),\n",
       " WindowsPath('Desktop/dataset/Data/train/adenocarcinoma/000021 (6).png'),\n",
       " WindowsPath('Desktop/dataset/Data/train/adenocarcinoma/000021 (8).png'),\n",
       " WindowsPath('Desktop/dataset/Data/train/adenocarcinoma/000022 (10).png'),\n",
       " WindowsPath('Desktop/dataset/Data/train/adenocarcinoma/000022 (2).png'),\n",
       " WindowsPath('Desktop/dataset/Data/train/adenocarcinoma/000022 (8).png'),\n",
       " WindowsPath('Desktop/dataset/Data/train/adenocarcinoma/000022 (9).png'),\n",
       " WindowsPath('Desktop/dataset/Data/train/adenocarcinoma/000022.png'),\n",
       " WindowsPath('Desktop/dataset/Data/train/adenocarcinoma/000023 (10).png'),\n",
       " WindowsPath('Desktop/dataset/Data/train/adenocarcinoma/000023 (5).png'),\n",
       " WindowsPath('Desktop/dataset/Data/train/adenocarcinoma/000023 (7).png'),\n",
       " WindowsPath('Desktop/dataset/Data/train/adenocarcinoma/000023 (9).png'),\n",
       " WindowsPath('Desktop/dataset/Data/train/adenocarcinoma/000024 (10).png'),\n",
       " WindowsPath('Desktop/dataset/Data/train/adenocarcinoma/000024 (6).png'),\n",
       " WindowsPath('Desktop/dataset/Data/train/adenocarcinoma/000024 (7).png'),\n",
       " WindowsPath('Desktop/dataset/Data/train/adenocarcinoma/000024.png'),\n",
       " WindowsPath('Desktop/dataset/Data/train/adenocarcinoma/000025 (6).png'),\n",
       " WindowsPath('Desktop/dataset/Data/train/adenocarcinoma/000026 (10).png'),\n",
       " WindowsPath('Desktop/dataset/Data/train/adenocarcinoma/000026 (3).png'),\n",
       " WindowsPath('Desktop/dataset/Data/train/adenocarcinoma/000027 (4).png'),\n",
       " WindowsPath('Desktop/dataset/Data/train/adenocarcinoma/000027 (6).png'),\n",
       " WindowsPath('Desktop/dataset/Data/train/adenocarcinoma/000029 (4).png'),\n",
       " WindowsPath('Desktop/dataset/Data/train/adenocarcinoma/000029 (5).png'),\n",
       " WindowsPath('Desktop/dataset/Data/train/adenocarcinoma/000029 (9).png'),\n",
       " WindowsPath('Desktop/dataset/Data/train/adenocarcinoma/000030 (4).png'),\n",
       " WindowsPath('Desktop/dataset/Data/train/adenocarcinoma/000031 (3).png'),\n",
       " WindowsPath('Desktop/dataset/Data/train/adenocarcinoma/000032 (8).png'),\n",
       " WindowsPath('Desktop/dataset/Data/train/adenocarcinoma/000033 (9).png'),\n",
       " WindowsPath('Desktop/dataset/Data/train/adenocarcinoma/000034 (6).png'),\n",
       " WindowsPath('Desktop/dataset/Data/train/adenocarcinoma/000035 (4).png'),\n",
       " WindowsPath('Desktop/dataset/Data/train/adenocarcinoma/000035 (5).png'),\n",
       " WindowsPath('Desktop/dataset/Data/train/adenocarcinoma/000035 (6).png'),\n",
       " WindowsPath('Desktop/dataset/Data/train/adenocarcinoma/000035 (8).png'),\n",
       " WindowsPath('Desktop/dataset/Data/train/adenocarcinoma/000036 (6).png'),\n",
       " WindowsPath('Desktop/dataset/Data/train/adenocarcinoma/000036 (7).png'),\n",
       " WindowsPath('Desktop/dataset/Data/train/adenocarcinoma/000040 (10).png'),\n",
       " WindowsPath('Desktop/dataset/Data/train/adenocarcinoma/000040 (3).png'),\n",
       " WindowsPath('Desktop/dataset/Data/train/adenocarcinoma/000040 (5).png'),\n",
       " WindowsPath('Desktop/dataset/Data/train/adenocarcinoma/000041 (2).png'),\n",
       " WindowsPath('Desktop/dataset/Data/train/adenocarcinoma/000041 (4).png'),\n",
       " WindowsPath('Desktop/dataset/Data/train/adenocarcinoma/000041 (7).png'),\n",
       " WindowsPath('Desktop/dataset/Data/train/adenocarcinoma/000041 (8).png'),\n",
       " WindowsPath('Desktop/dataset/Data/train/adenocarcinoma/000042 (10).png'),\n",
       " WindowsPath('Desktop/dataset/Data/train/adenocarcinoma/000044 (10).png'),\n",
       " WindowsPath('Desktop/dataset/Data/train/adenocarcinoma/000044 (9).png'),\n",
       " WindowsPath('Desktop/dataset/Data/train/adenocarcinoma/000046 (5).png'),\n",
       " WindowsPath('Desktop/dataset/Data/train/adenocarcinoma/000048 (8).png'),\n",
       " WindowsPath('Desktop/dataset/Data/train/adenocarcinoma/000048.png'),\n",
       " WindowsPath('Desktop/dataset/Data/train/adenocarcinoma/000049 (5).png'),\n",
       " WindowsPath('Desktop/dataset/Data/train/adenocarcinoma/000049 (9).png'),\n",
       " WindowsPath('Desktop/dataset/Data/train/adenocarcinoma/000050 (3).png'),\n",
       " WindowsPath('Desktop/dataset/Data/train/adenocarcinoma/000050 (5).png'),\n",
       " WindowsPath('Desktop/dataset/Data/train/adenocarcinoma/000050 (7).png'),\n",
       " WindowsPath('Desktop/dataset/Data/train/adenocarcinoma/000050 (8).png'),\n",
       " WindowsPath('Desktop/dataset/Data/train/adenocarcinoma/000051 (3).png'),\n",
       " WindowsPath('Desktop/dataset/Data/train/adenocarcinoma/000051 (4).png'),\n",
       " WindowsPath('Desktop/dataset/Data/train/adenocarcinoma/000052 (10).png'),\n",
       " WindowsPath('Desktop/dataset/Data/train/adenocarcinoma/000054 (5).png'),\n",
       " WindowsPath('Desktop/dataset/Data/train/adenocarcinoma/000054 (6).png'),\n",
       " WindowsPath('Desktop/dataset/Data/train/adenocarcinoma/000054 (7).png'),\n",
       " WindowsPath('Desktop/dataset/Data/train/adenocarcinoma/000054.png'),\n",
       " WindowsPath('Desktop/dataset/Data/train/adenocarcinoma/000055 (2).png'),\n",
       " WindowsPath('Desktop/dataset/Data/train/adenocarcinoma/000056 (7).png'),\n",
       " WindowsPath('Desktop/dataset/Data/train/adenocarcinoma/000057 (2).png'),\n",
       " WindowsPath('Desktop/dataset/Data/train/adenocarcinoma/000057.png'),\n",
       " WindowsPath('Desktop/dataset/Data/train/adenocarcinoma/000058 (4).png'),\n",
       " WindowsPath('Desktop/dataset/Data/train/adenocarcinoma/000058 (5).png'),\n",
       " WindowsPath('Desktop/dataset/Data/train/adenocarcinoma/000059 (7).png'),\n",
       " WindowsPath('Desktop/dataset/Data/train/adenocarcinoma/000061.png'),\n",
       " WindowsPath('Desktop/dataset/Data/train/adenocarcinoma/000063 (3).png'),\n",
       " WindowsPath('Desktop/dataset/Data/train/adenocarcinoma/000063 (5).png'),\n",
       " WindowsPath('Desktop/dataset/Data/train/adenocarcinoma/000063 (7).png'),\n",
       " WindowsPath('Desktop/dataset/Data/train/adenocarcinoma/000065 (3).png'),\n",
       " WindowsPath('Desktop/dataset/Data/train/adenocarcinoma/000065 (8).png'),\n",
       " WindowsPath('Desktop/dataset/Data/train/adenocarcinoma/000065 (9).png'),\n",
       " WindowsPath('Desktop/dataset/Data/train/adenocarcinoma/000066 (10).png'),\n",
       " WindowsPath('Desktop/dataset/Data/train/adenocarcinoma/000066 (9).png'),\n",
       " WindowsPath('Desktop/dataset/Data/train/adenocarcinoma/000067 (10).png'),\n",
       " WindowsPath('Desktop/dataset/Data/train/adenocarcinoma/000067.png'),\n",
       " WindowsPath('Desktop/dataset/Data/train/adenocarcinoma/000068 (10).png'),\n",
       " WindowsPath('Desktop/dataset/Data/train/adenocarcinoma/000068 (3).png'),\n",
       " WindowsPath('Desktop/dataset/Data/train/adenocarcinoma/000068 (9).png'),\n",
       " WindowsPath('Desktop/dataset/Data/train/adenocarcinoma/000069 (6).png'),\n",
       " WindowsPath('Desktop/dataset/Data/train/adenocarcinoma/000071 (3).png'),\n",
       " WindowsPath('Desktop/dataset/Data/train/adenocarcinoma/000072 (10).png'),\n",
       " WindowsPath('Desktop/dataset/Data/train/adenocarcinoma/000074 (5).png'),\n",
       " WindowsPath('Desktop/dataset/Data/train/adenocarcinoma/000075 (5).png'),\n",
       " WindowsPath('Desktop/dataset/Data/train/adenocarcinoma/000077 (6).png'),\n",
       " WindowsPath('Desktop/dataset/Data/train/adenocarcinoma/000077 (9).png'),\n",
       " WindowsPath('Desktop/dataset/Data/train/adenocarcinoma/000078 (6).png'),\n",
       " WindowsPath('Desktop/dataset/Data/train/adenocarcinoma/000079 (6).png'),\n",
       " WindowsPath('Desktop/dataset/Data/train/adenocarcinoma/000080 (10).png'),\n",
       " WindowsPath('Desktop/dataset/Data/train/adenocarcinoma/000080 (6).png'),\n",
       " WindowsPath('Desktop/dataset/Data/train/adenocarcinoma/000081 (2).png'),\n",
       " WindowsPath('Desktop/dataset/Data/train/adenocarcinoma/000083 (3).png'),\n",
       " WindowsPath('Desktop/dataset/Data/train/adenocarcinoma/000083 (6).png'),\n",
       " WindowsPath('Desktop/dataset/Data/train/adenocarcinoma/000084 (2).png'),\n",
       " WindowsPath('Desktop/dataset/Data/train/adenocarcinoma/000084 (3).png'),\n",
       " WindowsPath('Desktop/dataset/Data/train/adenocarcinoma/000084 (7).png'),\n",
       " WindowsPath('Desktop/dataset/Data/train/adenocarcinoma/000084.png'),\n",
       " WindowsPath('Desktop/dataset/Data/train/adenocarcinoma/000085 (10).png'),\n",
       " WindowsPath('Desktop/dataset/Data/train/adenocarcinoma/000085 (4).png'),\n",
       " WindowsPath('Desktop/dataset/Data/train/adenocarcinoma/000085 (7).png'),\n",
       " WindowsPath('Desktop/dataset/Data/train/adenocarcinoma/000086 (3).png'),\n",
       " WindowsPath('Desktop/dataset/Data/train/adenocarcinoma/000086 (8).png'),\n",
       " WindowsPath('Desktop/dataset/Data/train/adenocarcinoma/000087 (4).png'),\n",
       " WindowsPath('Desktop/dataset/Data/train/adenocarcinoma/000087 (8).png'),\n",
       " WindowsPath('Desktop/dataset/Data/train/adenocarcinoma/000089 (8).png'),\n",
       " WindowsPath('Desktop/dataset/Data/train/adenocarcinoma/000090 (2).png'),\n",
       " WindowsPath('Desktop/dataset/Data/train/adenocarcinoma/000091 (3).png'),\n",
       " WindowsPath('Desktop/dataset/Data/train/adenocarcinoma/000091 (7).png'),\n",
       " WindowsPath('Desktop/dataset/Data/train/adenocarcinoma/000091.png'),\n",
       " WindowsPath('Desktop/dataset/Data/train/adenocarcinoma/000092 (10).png'),\n",
       " WindowsPath('Desktop/dataset/Data/train/adenocarcinoma/000093 (10).png'),\n",
       " WindowsPath('Desktop/dataset/Data/train/adenocarcinoma/000093 (4).png'),\n",
       " WindowsPath('Desktop/dataset/Data/train/adenocarcinoma/000093 (6).png'),\n",
       " WindowsPath('Desktop/dataset/Data/train/adenocarcinoma/000095 (6).png'),\n",
       " WindowsPath('Desktop/dataset/Data/train/adenocarcinoma/000095.png'),\n",
       " WindowsPath('Desktop/dataset/Data/train/adenocarcinoma/000096 (7).png'),\n",
       " WindowsPath('Desktop/dataset/Data/train/adenocarcinoma/000097 (10).png'),\n",
       " WindowsPath('Desktop/dataset/Data/train/adenocarcinoma/000097 (2).png'),\n",
       " WindowsPath('Desktop/dataset/Data/train/adenocarcinoma/000097 (3).png'),\n",
       " WindowsPath('Desktop/dataset/Data/train/adenocarcinoma/000098 (5).png'),\n",
       " WindowsPath('Desktop/dataset/Data/train/adenocarcinoma/000098 (8).png'),\n",
       " WindowsPath('Desktop/dataset/Data/train/adenocarcinoma/000099 (7).png'),\n",
       " WindowsPath('Desktop/dataset/Data/train/adenocarcinoma/000100 (10).png'),\n",
       " WindowsPath('Desktop/dataset/Data/train/adenocarcinoma/000101 (7).png'),\n",
       " WindowsPath('Desktop/dataset/Data/train/adenocarcinoma/000102 (2).png'),\n",
       " WindowsPath('Desktop/dataset/Data/train/adenocarcinoma/000102 (3).png'),\n",
       " WindowsPath('Desktop/dataset/Data/train/adenocarcinoma/000102 (7).png'),\n",
       " WindowsPath('Desktop/dataset/Data/train/adenocarcinoma/000102.png'),\n",
       " WindowsPath('Desktop/dataset/Data/train/adenocarcinoma/000103 (9).png'),\n",
       " WindowsPath('Desktop/dataset/Data/train/adenocarcinoma/000104 (10).png'),\n",
       " WindowsPath('Desktop/dataset/Data/train/adenocarcinoma/000104 (4).png'),\n",
       " WindowsPath('Desktop/dataset/Data/train/adenocarcinoma/000105 (3).png'),\n",
       " WindowsPath('Desktop/dataset/Data/train/adenocarcinoma/000105 (4).png'),\n",
       " WindowsPath('Desktop/dataset/Data/train/adenocarcinoma/000105.png'),\n",
       " WindowsPath('Desktop/dataset/Data/train/adenocarcinoma/000106 (10).png'),\n",
       " WindowsPath('Desktop/dataset/Data/train/adenocarcinoma/000106 (4).png'),\n",
       " WindowsPath('Desktop/dataset/Data/train/adenocarcinoma/000106 (8).png'),\n",
       " WindowsPath('Desktop/dataset/Data/train/adenocarcinoma/000107 (9).png'),\n",
       " WindowsPath('Desktop/dataset/Data/train/adenocarcinoma/000118 (4).png'),\n",
       " WindowsPath('Desktop/dataset/Data/train/adenocarcinoma/000118 (6).png'),\n",
       " WindowsPath('Desktop/dataset/Data/train/adenocarcinoma/000119 (10).png'),\n",
       " WindowsPath('Desktop/dataset/Data/train/adenocarcinoma/000119 (4).png'),\n",
       " WindowsPath('Desktop/dataset/Data/train/adenocarcinoma/000119 (5).png'),\n",
       " WindowsPath('Desktop/dataset/Data/train/adenocarcinoma/000119 (6).png'),\n",
       " WindowsPath('Desktop/dataset/Data/train/adenocarcinoma/000121 (10).png'),\n",
       " WindowsPath('Desktop/dataset/Data/train/adenocarcinoma/000121 (9).png'),\n",
       " WindowsPath('Desktop/dataset/Data/train/adenocarcinoma/000121.png'),\n",
       " WindowsPath('Desktop/dataset/Data/train/adenocarcinoma/000122.png'),\n",
       " WindowsPath('Desktop/dataset/Data/train/adenocarcinoma/ad1.png'),\n",
       " WindowsPath('Desktop/dataset/Data/train/adenocarcinoma/ad10.png'),\n",
       " WindowsPath('Desktop/dataset/Data/train/adenocarcinoma/ad11.png'),\n",
       " WindowsPath('Desktop/dataset/Data/train/adenocarcinoma/ad12.png'),\n",
       " WindowsPath('Desktop/dataset/Data/train/adenocarcinoma/ad13.png'),\n",
       " WindowsPath('Desktop/dataset/Data/train/adenocarcinoma/ad14.png'),\n",
       " WindowsPath('Desktop/dataset/Data/train/adenocarcinoma/ad15.png'),\n",
       " WindowsPath('Desktop/dataset/Data/train/adenocarcinoma/ad16.png'),\n",
       " WindowsPath('Desktop/dataset/Data/train/adenocarcinoma/ad17.png'),\n",
       " WindowsPath('Desktop/dataset/Data/train/adenocarcinoma/ad18.png'),\n",
       " WindowsPath('Desktop/dataset/Data/train/adenocarcinoma/ad19.png'),\n",
       " WindowsPath('Desktop/dataset/Data/train/adenocarcinoma/ad2.png'),\n",
       " WindowsPath('Desktop/dataset/Data/train/adenocarcinoma/ad20.png'),\n",
       " WindowsPath('Desktop/dataset/Data/train/adenocarcinoma/ad21.png'),\n",
       " WindowsPath('Desktop/dataset/Data/train/adenocarcinoma/ad22.png'),\n",
       " WindowsPath('Desktop/dataset/Data/train/adenocarcinoma/ad3.png'),\n",
       " WindowsPath('Desktop/dataset/Data/train/adenocarcinoma/ad4.png'),\n",
       " WindowsPath('Desktop/dataset/Data/train/adenocarcinoma/ad5.png'),\n",
       " WindowsPath('Desktop/dataset/Data/train/adenocarcinoma/ad6.png'),\n",
       " WindowsPath('Desktop/dataset/Data/train/adenocarcinoma/ad7.png'),\n",
       " WindowsPath('Desktop/dataset/Data/train/adenocarcinoma/ad8.png'),\n",
       " WindowsPath('Desktop/dataset/Data/train/adenocarcinoma/ad9.png')]"
      ]
     },
     "execution_count": 102,
     "metadata": {},
     "output_type": "execute_result"
    }
   ],
   "source": [
    "train_images_dict['adenocarcinoma']"
   ]
  },
  {
   "cell_type": "code",
   "execution_count": 103,
   "id": "4bcacb1f",
   "metadata": {},
   "outputs": [],
   "source": [
    "train_labels_dict = {\n",
    "    'adenocarcinoma':0,\n",
    "    'large_cell_carcinoma':1,\n",
    "    'squamous_cell_carcinoma':2,\n",
    "    'normal':3\n",
    "}"
   ]
  },
  {
   "cell_type": "code",
   "execution_count": 104,
   "id": "c62e5b44",
   "metadata": {},
   "outputs": [
    {
     "data": {
      "text/plain": [
       "array([[[0, 0, 0],\n",
       "        [0, 0, 0],\n",
       "        [0, 0, 0],\n",
       "        ...,\n",
       "        [0, 0, 0],\n",
       "        [0, 0, 0],\n",
       "        [0, 0, 0]],\n",
       "\n",
       "       [[0, 0, 0],\n",
       "        [0, 0, 0],\n",
       "        [0, 0, 0],\n",
       "        ...,\n",
       "        [0, 0, 0],\n",
       "        [0, 0, 0],\n",
       "        [0, 0, 0]],\n",
       "\n",
       "       [[0, 0, 0],\n",
       "        [0, 0, 0],\n",
       "        [0, 0, 0],\n",
       "        ...,\n",
       "        [1, 1, 1],\n",
       "        [0, 0, 0],\n",
       "        [0, 0, 0]],\n",
       "\n",
       "       ...,\n",
       "\n",
       "       [[0, 0, 0],\n",
       "        [0, 0, 0],\n",
       "        [0, 0, 0],\n",
       "        ...,\n",
       "        [0, 0, 0],\n",
       "        [0, 0, 0],\n",
       "        [0, 0, 0]],\n",
       "\n",
       "       [[0, 0, 0],\n",
       "        [0, 0, 0],\n",
       "        [0, 0, 0],\n",
       "        ...,\n",
       "        [0, 0, 0],\n",
       "        [0, 0, 0],\n",
       "        [0, 0, 0]],\n",
       "\n",
       "       [[0, 0, 0],\n",
       "        [0, 0, 0],\n",
       "        [0, 0, 0],\n",
       "        ...,\n",
       "        [0, 0, 0],\n",
       "        [0, 0, 0],\n",
       "        [0, 0, 0]]], dtype=uint8)"
      ]
     },
     "execution_count": 104,
     "metadata": {},
     "output_type": "execute_result"
    }
   ],
   "source": [
    "import cv2\n",
    "img = cv2.imread(str(train_images_dict['adenocarcinoma'][0]))\n",
    "img"
   ]
  },
  {
   "cell_type": "code",
   "execution_count": 106,
   "id": "22e2bd31",
   "metadata": {},
   "outputs": [
    {
     "data": {
      "text/plain": [
       "(264, 409, 3)"
      ]
     },
     "execution_count": 106,
     "metadata": {},
     "output_type": "execute_result"
    }
   ],
   "source": [
    "img.shape"
   ]
  },
  {
   "cell_type": "code",
   "execution_count": 107,
   "id": "4675eb21",
   "metadata": {},
   "outputs": [
    {
     "data": {
      "text/plain": [
       "(180, 180, 3)"
      ]
     },
     "execution_count": 107,
     "metadata": {},
     "output_type": "execute_result"
    }
   ],
   "source": [
    "cv2.resize(img,(180,180)).shape"
   ]
  },
  {
   "cell_type": "code",
   "execution_count": 108,
   "id": "8a5d8349",
   "metadata": {},
   "outputs": [],
   "source": [
    "X,y = [],[]\n",
    "\n",
    "for names,images in train_images_dict.items():\n",
    "    for image in images:\n",
    "        img = cv2.imread(str(image))\n",
    "        resize_img = cv2.resize(img,(180,180))\n",
    "        X.append(resize_img)\n",
    "        y.append(train_labels_dict[names])"
   ]
  },
  {
   "cell_type": "code",
   "execution_count": 109,
   "id": "1573bb10",
   "metadata": {},
   "outputs": [],
   "source": [
    "X_train = np.array(X)\n",
    "y_train = np.array(y)"
   ]
  },
  {
   "cell_type": "code",
   "execution_count": 110,
   "id": "7a298316",
   "metadata": {},
   "outputs": [
    {
     "data": {
      "text/plain": [
       "array([[[0, 0, 0],\n",
       "        [0, 0, 0],\n",
       "        [0, 0, 0],\n",
       "        ...,\n",
       "        [0, 0, 0],\n",
       "        [0, 0, 0],\n",
       "        [0, 0, 0]],\n",
       "\n",
       "       [[0, 0, 0],\n",
       "        [0, 0, 0],\n",
       "        [0, 0, 0],\n",
       "        ...,\n",
       "        [0, 0, 0],\n",
       "        [0, 0, 0],\n",
       "        [0, 0, 0]],\n",
       "\n",
       "       [[1, 1, 1],\n",
       "        [0, 0, 0],\n",
       "        [0, 0, 0],\n",
       "        ...,\n",
       "        [0, 0, 0],\n",
       "        [2, 2, 2],\n",
       "        [0, 0, 0]],\n",
       "\n",
       "       ...,\n",
       "\n",
       "       [[0, 0, 0],\n",
       "        [0, 0, 0],\n",
       "        [0, 0, 0],\n",
       "        ...,\n",
       "        [0, 0, 0],\n",
       "        [0, 0, 0],\n",
       "        [0, 0, 0]],\n",
       "\n",
       "       [[0, 0, 0],\n",
       "        [0, 0, 0],\n",
       "        [0, 0, 0],\n",
       "        ...,\n",
       "        [0, 0, 0],\n",
       "        [0, 0, 0],\n",
       "        [0, 0, 0]],\n",
       "\n",
       "       [[0, 0, 0],\n",
       "        [0, 0, 0],\n",
       "        [0, 0, 0],\n",
       "        ...,\n",
       "        [0, 0, 0],\n",
       "        [0, 0, 0],\n",
       "        [0, 0, 0]]], dtype=uint8)"
      ]
     },
     "execution_count": 110,
     "metadata": {},
     "output_type": "execute_result"
    }
   ],
   "source": [
    "X_train[0]"
   ]
  },
  {
   "cell_type": "code",
   "execution_count": 111,
   "id": "3ccc631e",
   "metadata": {},
   "outputs": [],
   "source": [
    "test_acc = pathlib.Path(test_acc)\n",
    "test_lcc = pathlib.Path(test_lcc)\n",
    "test_scc = pathlib.Path(test_scc)\n",
    "test_normal = pathlib.Path(test_normal)"
   ]
  },
  {
   "cell_type": "code",
   "execution_count": 114,
   "id": "fd6320cb",
   "metadata": {},
   "outputs": [],
   "source": [
    "test_images_dict = {\n",
    "    \"adenocarcinoma\":list(test_acc.glob('*.png')),\n",
    "    \"large_cell_carcinoma\":list(test_lcc.glob('*.png')),\n",
    "    \"squamous_cell_carcinoma\":list(test_scc.glob('*.png')),\n",
    "    \"normal\":list(test_normal.glob('*.png'))\n",
    "}"
   ]
  },
  {
   "cell_type": "code",
   "execution_count": 115,
   "id": "47117cb8",
   "metadata": {},
   "outputs": [],
   "source": [
    "X_test,y_test = [],[]\n",
    "\n",
    "for names,images in test_images_dict.items():\n",
    "    for image in images:\n",
    "        img = cv2.imread(str(image))\n",
    "        resize_img = cv2.resize(img,(180,180))\n",
    "        X_test.append(resize_img)\n",
    "        y_test.append(train_labels_dict[names])"
   ]
  },
  {
   "cell_type": "code",
   "execution_count": 131,
   "id": "fd7ea487",
   "metadata": {},
   "outputs": [],
   "source": [
    "X_test = np.array(X_test)\n",
    "Y_test = np.array(y_test)"
   ]
  },
  {
   "cell_type": "code",
   "execution_count": 117,
   "id": "106e5205",
   "metadata": {},
   "outputs": [],
   "source": [
    "valid_acc = pathlib.Path(valid_acc)\n",
    "valid_lcc = pathlib.Path(valid_lcc)\n",
    "valid_scc = pathlib.Path(valid_scc)\n",
    "valid_normal = pathlib.Path(valid_normal)"
   ]
  },
  {
   "cell_type": "code",
   "execution_count": 118,
   "id": "98cfb4c2",
   "metadata": {},
   "outputs": [],
   "source": [
    "valid_images_dict = {\n",
    "    \"adenocarcinoma\":list(valid_acc.glob('*.png')),\n",
    "    \"large_cell_carcinoma\":list(valid_lcc.glob('*.png')),\n",
    "    \"squamous_cell_carcinoma\":list(valid_scc.glob('*.png')),\n",
    "    \"normal\":list(valid_normal.glob('*.png'))\n",
    "}"
   ]
  },
  {
   "cell_type": "code",
   "execution_count": 119,
   "id": "6239ed22",
   "metadata": {},
   "outputs": [],
   "source": [
    "X_valid,y_valid = [],[]\n",
    "\n",
    "for names,images in valid_images_dict.items():\n",
    "    for image in images:\n",
    "        img = cv2.imread(str(image))\n",
    "        resize_img = cv2.resize(img,(180,180))\n",
    "        X_valid.append(resize_img)\n",
    "        y_valid.append(train_labels_dict[names])"
   ]
  },
  {
   "cell_type": "code",
   "execution_count": 120,
   "id": "f4373c6a",
   "metadata": {},
   "outputs": [],
   "source": [
    "X_valid = np.array(X_valid)\n",
    "Y_valid = np.array(y_valid)"
   ]
  },
  {
   "cell_type": "code",
   "execution_count": 77,
   "id": "4540b3b9",
   "metadata": {},
   "outputs": [
    {
     "ename": "ValueError",
     "evalue": "cannot reshape array of size 58417200 into shape (601,180,180)",
     "output_type": "error",
     "traceback": [
      "\u001b[1;31m---------------------------------------------------------------------------\u001b[0m",
      "\u001b[1;31mValueError\u001b[0m                                Traceback (most recent call last)",
      "Cell \u001b[1;32mIn[77], line 1\u001b[0m\n\u001b[1;32m----> 1\u001b[0m \u001b[43mX_train\u001b[49m\u001b[38;5;241;43m.\u001b[39;49m\u001b[43mreshape\u001b[49m\u001b[43m(\u001b[49m\u001b[38;5;28;43mlen\u001b[39;49m\u001b[43m(\u001b[49m\u001b[43mX_train\u001b[49m\u001b[43m)\u001b[49m\u001b[43m,\u001b[49m\u001b[38;5;241;43m180\u001b[39;49m\u001b[43m,\u001b[49m\u001b[38;5;241;43m180\u001b[39;49m\u001b[43m)\u001b[49m\n",
      "\u001b[1;31mValueError\u001b[0m: cannot reshape array of size 58417200 into shape (601,180,180)"
     ]
    }
   ],
   "source": []
  },
  {
   "cell_type": "code",
   "execution_count": 121,
   "id": "1e902e73",
   "metadata": {},
   "outputs": [],
   "source": [
    "from keras.layers import Input"
   ]
  },
  {
   "cell_type": "code",
   "execution_count": 79,
   "id": "2a83cf67",
   "metadata": {},
   "outputs": [
    {
     "ename": "ValueError",
     "evalue": "Input 0 of layer \"max_pooling2d_27\" is incompatible with the layer: expected ndim=4, found ndim=5. Full shape received: (None, 601, 180, 180, 16)",
     "output_type": "error",
     "traceback": [
      "\u001b[1;31m---------------------------------------------------------------------------\u001b[0m",
      "\u001b[1;31mValueError\u001b[0m                                Traceback (most recent call last)",
      "Cell \u001b[1;32mIn[79], line 4\u001b[0m\n\u001b[0;32m      2\u001b[0m x \u001b[38;5;241m=\u001b[39m Sequential()(inputs)\n\u001b[0;32m      3\u001b[0m x \u001b[38;5;241m=\u001b[39m Conv2D(\u001b[38;5;241m16\u001b[39m,\u001b[38;5;241m3\u001b[39m,padding\u001b[38;5;241m=\u001b[39m\u001b[38;5;124m\"\u001b[39m\u001b[38;5;124msame\u001b[39m\u001b[38;5;124m\"\u001b[39m,activation\u001b[38;5;241m=\u001b[39m\u001b[38;5;124m\"\u001b[39m\u001b[38;5;124mrelu\u001b[39m\u001b[38;5;124m\"\u001b[39m)(x)\n\u001b[1;32m----> 4\u001b[0m x \u001b[38;5;241m=\u001b[39m \u001b[43mMaxPooling2D\u001b[49m\u001b[43m(\u001b[49m\u001b[43m)\u001b[49m\u001b[43m(\u001b[49m\u001b[43mx\u001b[49m\u001b[43m)\u001b[49m\n\u001b[0;32m      5\u001b[0m x \u001b[38;5;241m=\u001b[39m Conv2D(\u001b[38;5;241m16\u001b[39m,\u001b[38;5;241m3\u001b[39m,padding\u001b[38;5;241m=\u001b[39m\u001b[38;5;124m\"\u001b[39m\u001b[38;5;124msame\u001b[39m\u001b[38;5;124m\"\u001b[39m,activation\u001b[38;5;241m=\u001b[39m\u001b[38;5;124m\"\u001b[39m\u001b[38;5;124mrelu\u001b[39m\u001b[38;5;124m\"\u001b[39m)(x)\n\u001b[0;32m      6\u001b[0m x \u001b[38;5;241m=\u001b[39m MaxPooling2D()(x)\n",
      "File \u001b[1;32m~\\AppData\\Local\\Programs\\Python\\Python311\\Lib\\site-packages\\keras\\src\\utils\\traceback_utils.py:70\u001b[0m, in \u001b[0;36mfilter_traceback.<locals>.error_handler\u001b[1;34m(*args, **kwargs)\u001b[0m\n\u001b[0;32m     67\u001b[0m     filtered_tb \u001b[38;5;241m=\u001b[39m _process_traceback_frames(e\u001b[38;5;241m.\u001b[39m__traceback__)\n\u001b[0;32m     68\u001b[0m     \u001b[38;5;66;03m# To get the full stack trace, call:\u001b[39;00m\n\u001b[0;32m     69\u001b[0m     \u001b[38;5;66;03m# `tf.debugging.disable_traceback_filtering()`\u001b[39;00m\n\u001b[1;32m---> 70\u001b[0m     \u001b[38;5;28;01mraise\u001b[39;00m e\u001b[38;5;241m.\u001b[39mwith_traceback(filtered_tb) \u001b[38;5;28;01mfrom\u001b[39;00m \u001b[38;5;28;01mNone\u001b[39;00m\n\u001b[0;32m     71\u001b[0m \u001b[38;5;28;01mfinally\u001b[39;00m:\n\u001b[0;32m     72\u001b[0m     \u001b[38;5;28;01mdel\u001b[39;00m filtered_tb\n",
      "File \u001b[1;32m~\\AppData\\Local\\Programs\\Python\\Python311\\Lib\\site-packages\\keras\\src\\engine\\input_spec.py:235\u001b[0m, in \u001b[0;36massert_input_compatibility\u001b[1;34m(input_spec, inputs, layer_name)\u001b[0m\n\u001b[0;32m    233\u001b[0m     ndim \u001b[38;5;241m=\u001b[39m shape\u001b[38;5;241m.\u001b[39mrank\n\u001b[0;32m    234\u001b[0m     \u001b[38;5;28;01mif\u001b[39;00m ndim \u001b[38;5;241m!=\u001b[39m spec\u001b[38;5;241m.\u001b[39mndim:\n\u001b[1;32m--> 235\u001b[0m         \u001b[38;5;28;01mraise\u001b[39;00m \u001b[38;5;167;01mValueError\u001b[39;00m(\n\u001b[0;32m    236\u001b[0m             \u001b[38;5;124mf\u001b[39m\u001b[38;5;124m'\u001b[39m\u001b[38;5;124mInput \u001b[39m\u001b[38;5;132;01m{\u001b[39;00minput_index\u001b[38;5;132;01m}\u001b[39;00m\u001b[38;5;124m of layer \u001b[39m\u001b[38;5;124m\"\u001b[39m\u001b[38;5;132;01m{\u001b[39;00mlayer_name\u001b[38;5;132;01m}\u001b[39;00m\u001b[38;5;124m\"\u001b[39m\u001b[38;5;124m \u001b[39m\u001b[38;5;124m'\u001b[39m\n\u001b[0;32m    237\u001b[0m             \u001b[38;5;124m\"\u001b[39m\u001b[38;5;124mis incompatible with the layer: \u001b[39m\u001b[38;5;124m\"\u001b[39m\n\u001b[0;32m    238\u001b[0m             \u001b[38;5;124mf\u001b[39m\u001b[38;5;124m\"\u001b[39m\u001b[38;5;124mexpected ndim=\u001b[39m\u001b[38;5;132;01m{\u001b[39;00mspec\u001b[38;5;241m.\u001b[39mndim\u001b[38;5;132;01m}\u001b[39;00m\u001b[38;5;124m, found ndim=\u001b[39m\u001b[38;5;132;01m{\u001b[39;00mndim\u001b[38;5;132;01m}\u001b[39;00m\u001b[38;5;124m. \u001b[39m\u001b[38;5;124m\"\u001b[39m\n\u001b[0;32m    239\u001b[0m             \u001b[38;5;124mf\u001b[39m\u001b[38;5;124m\"\u001b[39m\u001b[38;5;124mFull shape received: \u001b[39m\u001b[38;5;132;01m{\u001b[39;00m\u001b[38;5;28mtuple\u001b[39m(shape)\u001b[38;5;132;01m}\u001b[39;00m\u001b[38;5;124m\"\u001b[39m\n\u001b[0;32m    240\u001b[0m         )\n\u001b[0;32m    241\u001b[0m \u001b[38;5;28;01mif\u001b[39;00m spec\u001b[38;5;241m.\u001b[39mmax_ndim \u001b[38;5;129;01mis\u001b[39;00m \u001b[38;5;129;01mnot\u001b[39;00m \u001b[38;5;28;01mNone\u001b[39;00m:\n\u001b[0;32m    242\u001b[0m     ndim \u001b[38;5;241m=\u001b[39m x\u001b[38;5;241m.\u001b[39mshape\u001b[38;5;241m.\u001b[39mrank\n",
      "\u001b[1;31mValueError\u001b[0m: Input 0 of layer \"max_pooling2d_27\" is incompatible with the layer: expected ndim=4, found ndim=5. Full shape received: (None, 601, 180, 180, 16)"
     ]
    }
   ],
   "source": [
    "inputs=Input(shape=(X_train.shape[0], 180, 180, 3))\n",
    "x = Sequential()(inputs)\n",
    "x = Conv2D(16,3,padding=\"same\",activation=\"relu\")(x)\n",
    "x = MaxPooling2D()(x)\n",
    "x = Conv2D(16,3,padding=\"same\",activation=\"relu\")(x)\n",
    "x = MaxPooling2D()(x)\n",
    "x = Conv2D(32,3,padding=\"same\",activation=\"relu\")(x)\n",
    "x = MaxPooling2D()(x)\n",
    "x = Conv2D(64,3,padding=\"same\",activation=\"relu\")(x)\n",
    "x = MaxPooling2D()(x)\n",
    "x = Flatten()(x)\n",
    "x = Dense(128,activation=\"relu\")\n",
    "x = Dense(5,activation=\"softmax\")\n",
    "model.summary()"
   ]
  },
  {
   "cell_type": "code",
   "execution_count": 6,
   "id": "9a6e158a",
   "metadata": {},
   "outputs": [
    {
     "name": "stdout",
     "output_type": "stream",
     "text": [
      "Found 613 files belonging to 4 classes.\n",
      "Found 72 files belonging to 4 classes.\n",
      "Found 315 files belonging to 4 classes.\n"
     ]
    }
   ],
   "source": [
    "train_dataset = image_dataset_from_directory(\n",
    "                train_dir,\n",
    "                image_size=(180,180),\n",
    "                batch_size=32)\n",
    "validation_dataset = image_dataset_from_directory(\n",
    "                valid_dir,\n",
    "                image_size = (180,180),\n",
    "                batch_size=32)\n",
    "test_dataset = image_dataset_from_directory(\n",
    "                test_dir,\n",
    "                image_size=(180,180),\n",
    "                batch_size = 32)"
   ]
  },
  {
   "cell_type": "code",
   "execution_count": 7,
   "id": "30d68755",
   "metadata": {},
   "outputs": [
    {
     "data": {
      "text/plain": [
       "<_BatchDataset element_spec=(TensorSpec(shape=(None, 180, 180, 3), dtype=tf.float32, name=None), TensorSpec(shape=(None,), dtype=tf.int32, name=None))>"
      ]
     },
     "execution_count": 7,
     "metadata": {},
     "output_type": "execute_result"
    }
   ],
   "source": [
    "train_dataset"
   ]
  },
  {
   "cell_type": "code",
   "execution_count": null,
   "id": "4390ac55",
   "metadata": {},
   "outputs": [],
   "source": []
  },
  {
   "cell_type": "code",
   "execution_count": 122,
   "id": "ff3f26fa",
   "metadata": {},
   "outputs": [],
   "source": [
    "inputs = keras.Input(shape=(180,180,3))\n",
    "x = keras.layers.Conv2D(filters = 32, kernel_size = 3, activation = \"relu\")(inputs)\n",
    "x = keras.layers.MaxPooling2D(pool_size =2)(x)\n",
    "x = keras.layers.Conv2D(filters = 32, kernel_size=3,activation=\"relu\")(x)\n",
    "x = keras.layers.MaxPooling2D(pool_size = 2)(x)\n",
    "x = keras.layers.Flatten()(x)\n",
    "outputs = keras.layers.Dense(4,activation=\"softmax\")(x)\n",
    "model = keras.Model(inputs = inputs, outputs = outputs)"
   ]
  },
  {
   "cell_type": "code",
   "execution_count": 123,
   "id": "89670087",
   "metadata": {},
   "outputs": [
    {
     "name": "stdout",
     "output_type": "stream",
     "text": [
      "Model: \"model_1\"\n",
      "_________________________________________________________________\n",
      " Layer (type)                Output Shape              Param #   \n",
      "=================================================================\n",
      " input_8 (InputLayer)        [(None, 180, 180, 3)]     0         \n",
      "                                                                 \n",
      " conv2d_31 (Conv2D)          (None, 178, 178, 32)      896       \n",
      "                                                                 \n",
      " max_pooling2d_30 (MaxPooli  (None, 89, 89, 32)        0         \n",
      " ng2D)                                                           \n",
      "                                                                 \n",
      " conv2d_32 (Conv2D)          (None, 87, 87, 32)        9248      \n",
      "                                                                 \n",
      " max_pooling2d_31 (MaxPooli  (None, 43, 43, 32)        0         \n",
      " ng2D)                                                           \n",
      "                                                                 \n",
      " flatten_7 (Flatten)         (None, 59168)             0         \n",
      "                                                                 \n",
      " dense_13 (Dense)            (None, 4)                 236676    \n",
      "                                                                 \n",
      "=================================================================\n",
      "Total params: 246820 (964.14 KB)\n",
      "Trainable params: 246820 (964.14 KB)\n",
      "Non-trainable params: 0 (0.00 Byte)\n",
      "_________________________________________________________________\n"
     ]
    }
   ],
   "source": [
    "model.summary()"
   ]
  },
  {
   "cell_type": "code",
   "execution_count": 124,
   "id": "07280040",
   "metadata": {},
   "outputs": [],
   "source": [
    "model.compile(optimizer=\"rmsprop\",\n",
    "            loss=\"sparse_categorical_crossentropy\",\n",
    "             metrics=[\"accuracy\"])"
   ]
  },
  {
   "cell_type": "code",
   "execution_count": 126,
   "id": "26ff0309",
   "metadata": {},
   "outputs": [
    {
     "name": "stdout",
     "output_type": "stream",
     "text": [
      "Epoch 1/30\n",
      "19/19 [==============================] - 11s 560ms/step - loss: 0.0230 - accuracy: 0.9967\n",
      "Epoch 2/30\n",
      "19/19 [==============================] - 11s 577ms/step - loss: 0.0312 - accuracy: 0.9967\n",
      "Epoch 3/30\n",
      "19/19 [==============================] - 11s 597ms/step - loss: 0.0223 - accuracy: 0.9950\n",
      "Epoch 4/30\n",
      "19/19 [==============================] - 11s 573ms/step - loss: 0.9669 - accuracy: 0.9651\n",
      "Epoch 5/30\n",
      "19/19 [==============================] - 11s 601ms/step - loss: 0.2617 - accuracy: 0.9684\n",
      "Epoch 6/30\n",
      "19/19 [==============================] - 11s 571ms/step - loss: 0.0542 - accuracy: 0.9967\n",
      "Epoch 7/30\n",
      "19/19 [==============================] - 11s 563ms/step - loss: 0.0032 - accuracy: 0.9983\n",
      "Epoch 8/30\n",
      "19/19 [==============================] - 12s 614ms/step - loss: 0.0273 - accuracy: 0.9967\n",
      "Epoch 9/30\n",
      "19/19 [==============================] - 13s 655ms/step - loss: 0.0350 - accuracy: 0.9983\n",
      "Epoch 10/30\n",
      "19/19 [==============================] - 15s 817ms/step - loss: 0.0257 - accuracy: 0.9933\n",
      "Epoch 11/30\n",
      "19/19 [==============================] - 21s 1s/step - loss: 0.1006 - accuracy: 0.9867\n",
      "Epoch 12/30\n",
      "19/19 [==============================] - 19s 1s/step - loss: 0.0515 - accuracy: 0.9917\n",
      "Epoch 13/30\n",
      "19/19 [==============================] - 20s 1s/step - loss: 0.1324 - accuracy: 0.9834\n",
      "Epoch 14/30\n",
      "19/19 [==============================] - 16s 866ms/step - loss: 0.7756 - accuracy: 0.9601\n",
      "Epoch 15/30\n",
      "19/19 [==============================] - 17s 894ms/step - loss: 0.0351 - accuracy: 0.9983\n",
      "Epoch 16/30\n",
      "19/19 [==============================] - 16s 824ms/step - loss: 0.0346 - accuracy: 0.9967\n",
      "Epoch 17/30\n",
      "19/19 [==============================] - 15s 818ms/step - loss: 0.0178 - accuracy: 0.9950\n",
      "Epoch 18/30\n",
      "19/19 [==============================] - 15s 802ms/step - loss: 0.2362 - accuracy: 0.9800\n",
      "Epoch 19/30\n",
      "19/19 [==============================] - 15s 800ms/step - loss: 0.0164 - accuracy: 0.9983\n",
      "Epoch 20/30\n",
      "19/19 [==============================] - 17s 917ms/step - loss: 0.0510 - accuracy: 0.9983\n",
      "Epoch 21/30\n",
      "19/19 [==============================] - 17s 873ms/step - loss: 0.4384 - accuracy: 0.9651\n",
      "Epoch 22/30\n",
      "19/19 [==============================] - 16s 857ms/step - loss: 0.0316 - accuracy: 0.9983\n",
      "Epoch 23/30\n",
      "19/19 [==============================] - 17s 869ms/step - loss: 0.0346 - accuracy: 0.9983\n",
      "Epoch 24/30\n",
      "19/19 [==============================] - 17s 879ms/step - loss: 0.0367 - accuracy: 0.9967\n",
      "Epoch 25/30\n",
      "19/19 [==============================] - 17s 899ms/step - loss: 0.0143 - accuracy: 0.9983\n",
      "Epoch 26/30\n",
      "19/19 [==============================] - 17s 901ms/step - loss: 0.0427 - accuracy: 0.9900\n",
      "Epoch 27/30\n",
      "19/19 [==============================] - 18s 924ms/step - loss: 0.0384 - accuracy: 0.9900\n",
      "Epoch 28/30\n",
      "19/19 [==============================] - 18s 937ms/step - loss: 0.0947 - accuracy: 0.9967\n",
      "Epoch 29/30\n",
      "19/19 [==============================] - 21s 1s/step - loss: 0.9435 - accuracy: 0.9700\n",
      "Epoch 30/30\n",
      "19/19 [==============================] - 21s 1s/step - loss: 0.0492 - accuracy: 0.9983\n"
     ]
    }
   ],
   "source": [
    "history = model.fit(\n",
    "    X_train,\n",
    "    y_train,\n",
    "    epochs=30)"
   ]
  },
  {
   "cell_type": "code",
   "execution_count": 134,
   "id": "d7ce4a5f",
   "metadata": {},
   "outputs": [],
   "source": [
    "y_test = np.array(y_test)"
   ]
  },
  {
   "cell_type": "code",
   "execution_count": 135,
   "id": "d9423822",
   "metadata": {},
   "outputs": [
    {
     "data": {
      "text/plain": [
       "array([1, 1, 1, 1, 1, 1, 1, 1, 1, 1, 1, 1, 1, 1, 1, 1, 1, 1, 1, 1, 1, 1,\n",
       "       1, 1, 1, 1, 1, 1, 1, 1, 1, 1, 1, 1, 1, 1, 1, 1, 1, 1, 1, 1, 1, 1,\n",
       "       1, 1, 1, 1, 1, 1, 1, 2, 2, 2, 2, 2, 2, 2, 2, 2, 2, 2, 2, 2, 2, 2,\n",
       "       2, 2, 2, 2, 2, 2, 2, 2, 2, 2, 2, 2, 2, 2, 2, 2, 2, 2, 2, 2, 2, 2,\n",
       "       2, 2, 2, 2, 2, 2, 2, 2, 2, 2, 2, 2, 2, 2, 2, 2, 2, 2, 2, 2, 2, 2,\n",
       "       2, 2, 2, 2, 2, 2, 2, 2, 2, 2, 2, 2, 2, 2, 2, 2, 2, 2, 2, 2, 2, 2,\n",
       "       2, 2, 2, 2, 2, 2, 2, 2, 2, 3, 3, 3, 3, 3, 3, 3, 3, 3, 3, 3, 3, 3,\n",
       "       3, 3, 3, 3, 3, 3, 3, 3, 3, 3, 3, 3, 3, 3, 3, 3, 3, 3, 3, 3, 3, 3,\n",
       "       3, 3, 3, 3, 3, 3, 3, 3, 3, 3, 3, 3, 3, 3, 3, 3, 3, 3, 3])"
      ]
     },
     "execution_count": 135,
     "metadata": {},
     "output_type": "execute_result"
    }
   ],
   "source": [
    "y_test"
   ]
  },
  {
   "cell_type": "code",
   "execution_count": 136,
   "id": "d3de41f4",
   "metadata": {},
   "outputs": [
    {
     "name": "stdout",
     "output_type": "stream",
     "text": [
      "7/7 [==============================] - 1s 89ms/step - loss: 7.4357 - accuracy: 0.4974\n"
     ]
    },
    {
     "data": {
      "text/plain": [
       "[7.435739517211914, 0.49743589758872986]"
      ]
     },
     "execution_count": 136,
     "metadata": {},
     "output_type": "execute_result"
    }
   ],
   "source": [
    "model.evaluate(X_test,y_test)"
   ]
  },
  {
   "cell_type": "code",
   "execution_count": 137,
   "id": "60e24656",
   "metadata": {},
   "outputs": [
    {
     "name": "stdout",
     "output_type": "stream",
     "text": [
      "7/7 [==============================] - 1s 76ms/step\n"
     ]
    },
    {
     "data": {
      "text/plain": [
       "array([[9.99902368e-01, 9.76591473e-05, 5.50185097e-09, 2.62338606e-11],\n",
       "       [6.77674370e-06, 9.99993205e-01, 1.98703143e-09, 5.58483677e-08],\n",
       "       [4.05375272e-01, 5.94624400e-01, 3.50971249e-07, 1.48697203e-18],\n",
       "       [3.85954678e-01, 6.14045322e-01, 7.66290087e-10, 1.02690598e-14],\n",
       "       [7.23774672e-01, 2.76225239e-01, 1.28945388e-07, 7.24920846e-10],\n",
       "       [9.99832153e-01, 7.84074886e-14, 1.67760678e-04, 4.56779254e-14],\n",
       "       [9.99998569e-01, 3.96400992e-07, 1.02863623e-06, 2.06522660e-10],\n",
       "       [9.99120772e-01, 8.55086895e-04, 2.41453563e-05, 1.52481264e-10],\n",
       "       [1.30211754e-06, 7.31889145e-08, 6.19191851e-05, 9.99936700e-01],\n",
       "       [5.38815919e-04, 8.71110037e-02, 9.12350237e-01, 2.14879167e-13],\n",
       "       [3.90666082e-06, 4.81021374e-01, 1.21339347e-08, 5.18974721e-01],\n",
       "       [2.83121655e-04, 9.99710143e-01, 6.67627592e-06, 1.97012788e-08],\n",
       "       [9.96921957e-01, 7.25532766e-04, 3.55848897e-06, 2.34894338e-03],\n",
       "       [6.44117415e-01, 1.24195992e-07, 3.55882376e-01, 1.29206021e-10],\n",
       "       [9.99950886e-01, 7.57034650e-06, 4.14724091e-05, 3.38421612e-19],\n",
       "       [9.84316587e-01, 3.54725868e-03, 1.21361027e-02, 2.47510790e-09],\n",
       "       [2.80613367e-05, 9.99971747e-01, 8.12880319e-11, 2.66511734e-07],\n",
       "       [9.99999762e-01, 1.98078470e-10, 2.96054395e-07, 6.07718280e-17],\n",
       "       [7.53768742e-01, 2.46231243e-01, 8.82043505e-09, 2.22996826e-20],\n",
       "       [9.96574759e-01, 2.70374501e-09, 3.42523237e-03, 1.99740245e-14],\n",
       "       [9.71065879e-01, 2.89332829e-02, 7.86278235e-07, 2.11062764e-11],\n",
       "       [1.60372391e-01, 1.79699509e-05, 8.39609563e-01, 1.49819213e-10],\n",
       "       [1.19249756e-02, 1.76979086e-06, 9.88073289e-01, 1.58403313e-09],\n",
       "       [9.85364377e-01, 1.46356272e-02, 2.45141581e-11, 1.72961316e-14],\n",
       "       [1.16964940e-04, 9.97881472e-01, 2.00149044e-03, 5.03229135e-15],\n",
       "       [9.71787512e-01, 2.82112509e-02, 1.14771512e-06, 1.70626855e-08],\n",
       "       [1.98811740e-02, 3.92073489e-05, 9.80079591e-01, 4.10403347e-13],\n",
       "       [9.99999046e-01, 9.16647309e-07, 5.81597650e-13, 5.92317739e-14],\n",
       "       [3.18955991e-08, 4.26134440e-11, 1.89356476e-01, 8.10643435e-01],\n",
       "       [9.92733359e-01, 1.58887015e-05, 7.25077372e-03, 4.16820363e-11],\n",
       "       [2.18366623e-01, 1.25470763e-08, 7.81633377e-01, 1.16047105e-14],\n",
       "       [5.15812175e-08, 7.03336354e-07, 9.99999285e-01, 4.37201011e-15],\n",
       "       [3.90924615e-05, 9.99960899e-01, 1.70330362e-21, 1.28059582e-14],\n",
       "       [9.98583555e-01, 1.41648308e-03, 4.35068370e-11, 1.39591876e-08],\n",
       "       [4.99989977e-03, 9.94825900e-01, 1.74185901e-04, 4.75322120e-16],\n",
       "       [1.17492904e-10, 2.62547899e-15, 2.27987407e-10, 1.00000000e+00],\n",
       "       [1.63429615e-03, 9.98365700e-01, 6.71664384e-13, 3.34979559e-19],\n",
       "       [2.22108083e-05, 9.87755895e-01, 1.22218467e-02, 1.01215401e-08],\n",
       "       [1.59858686e-15, 1.00000000e+00, 1.00665430e-18, 5.19679297e-13],\n",
       "       [1.00000000e+00, 1.33433398e-09, 3.03571784e-13, 4.80909205e-20],\n",
       "       [3.89893353e-01, 1.38281964e-09, 6.10106647e-01, 2.11960003e-17],\n",
       "       [9.08074617e-01, 6.83551729e-02, 1.54698500e-06, 2.35686488e-02],\n",
       "       [1.00000000e+00, 1.74533373e-15, 2.23241716e-12, 4.07778800e-17],\n",
       "       [2.72855535e-03, 9.97067630e-01, 1.84295743e-04, 1.94623262e-05],\n",
       "       [1.81635600e-02, 9.81825173e-01, 1.11432209e-05, 1.00672800e-07],\n",
       "       [9.74419713e-01, 2.55797692e-02, 4.19994052e-07, 2.61603429e-13],\n",
       "       [2.67415913e-03, 1.82385731e-03, 1.04004619e-06, 9.95500863e-01],\n",
       "       [9.96951580e-01, 3.04842182e-03, 6.51685635e-15, 6.62608640e-12],\n",
       "       [9.82864738e-01, 7.46796422e-06, 1.71278026e-02, 3.13773139e-11],\n",
       "       [1.31147669e-20, 1.00000000e+00, 3.58181712e-17, 5.88244265e-16],\n",
       "       [9.84076679e-01, 1.59138255e-02, 9.48190791e-06, 8.47857873e-09],\n",
       "       [9.99999046e-01, 3.71116698e-07, 6.07034849e-08, 4.84213956e-07],\n",
       "       [9.97180700e-01, 7.82347159e-15, 2.81935348e-03, 4.52848513e-14],\n",
       "       [1.00000000e+00, 9.14144437e-22, 2.60655104e-13, 5.39228872e-13],\n",
       "       [1.00000000e+00, 4.85294721e-11, 4.29947722e-09, 1.26485031e-17],\n",
       "       [1.00000000e+00, 2.52761730e-14, 3.22258042e-09, 7.40371875e-10],\n",
       "       [9.01201010e-01, 3.37323236e-08, 9.87989902e-02, 3.16422721e-11],\n",
       "       [9.99998212e-01, 9.37064691e-21, 1.74396757e-06, 7.17583681e-17],\n",
       "       [3.07184334e-12, 3.94055715e-16, 1.00000000e+00, 8.11266950e-20],\n",
       "       [3.68044508e-04, 1.47073773e-13, 9.99631882e-01, 5.58902642e-13],\n",
       "       [1.00000000e+00, 3.93778426e-20, 3.89103506e-11, 6.07688923e-15],\n",
       "       [9.36202355e-07, 6.56774944e-07, 9.99998331e-01, 6.76490970e-08],\n",
       "       [4.96416658e-01, 1.04714024e-06, 5.03581941e-01, 2.66335974e-07],\n",
       "       [2.42103124e-05, 2.42959723e-04, 9.99732792e-01, 1.09277245e-08],\n",
       "       [5.25611872e-03, 1.81182770e-14, 9.94743943e-01, 7.86633120e-11],\n",
       "       [9.91608441e-01, 1.12464476e-12, 8.39158054e-03, 4.16357215e-09],\n",
       "       [9.99998212e-01, 1.83646077e-14, 1.81903056e-06, 7.50807836e-12],\n",
       "       [1.00000000e+00, 5.58507764e-34, 5.99849731e-20, 2.24215711e-29],\n",
       "       [4.57005322e-01, 2.40780395e-07, 5.42913020e-01, 8.13933875e-05],\n",
       "       [1.40318349e-18, 1.97514870e-25, 1.00000000e+00, 1.66869763e-29],\n",
       "       [1.04619721e-06, 2.11488783e-18, 9.99998927e-01, 8.61478800e-21],\n",
       "       [1.00000000e+00, 4.69494843e-09, 5.81845128e-11, 3.23045708e-13],\n",
       "       [9.99979854e-01, 2.00924460e-05, 7.18843225e-13, 5.79741387e-13],\n",
       "       [1.00000000e+00, 1.18359408e-16, 1.32863456e-10, 1.66219139e-11],\n",
       "       [1.00000000e+00, 2.40985711e-20, 1.75515852e-11, 1.07529297e-16],\n",
       "       [2.80615476e-14, 2.44917302e-18, 1.00000000e+00, 2.87660388e-22],\n",
       "       [9.99995470e-01, 2.05637335e-07, 4.24045174e-06, 9.79003120e-13],\n",
       "       [9.89894331e-01, 7.49224427e-14, 1.01056248e-02, 7.66569589e-24],\n",
       "       [8.94413219e-08, 2.67930925e-12, 9.99999881e-01, 6.13435204e-21],\n",
       "       [1.00000000e+00, 9.45415824e-14, 2.89802449e-12, 1.26079431e-13],\n",
       "       [9.97962952e-01, 3.67334445e-13, 2.03705975e-03, 1.86542240e-11],\n",
       "       [8.82400572e-02, 2.15758367e-09, 9.11759913e-01, 7.35532241e-15],\n",
       "       [4.03662678e-03, 2.77151674e-01, 7.18811631e-01, 1.41612686e-15],\n",
       "       [9.99999523e-01, 2.05569034e-10, 4.75306194e-07, 7.05949812e-11],\n",
       "       [1.00000000e+00, 5.28522916e-17, 3.88988131e-09, 4.80973928e-18],\n",
       "       [9.99947190e-01, 4.54989399e-13, 5.28612181e-05, 8.03666713e-17],\n",
       "       [9.98327911e-01, 2.79215800e-11, 1.00614002e-03, 6.66022068e-04],\n",
       "       [7.41170824e-01, 2.25204233e-09, 2.58829147e-01, 1.31581054e-14],\n",
       "       [3.03929318e-02, 6.41638339e-01, 2.81831801e-01, 4.61368822e-02],\n",
       "       [1.00000000e+00, 8.05076092e-36, 9.64003565e-18, 4.17746194e-28],\n",
       "       [9.98531461e-01, 2.26356498e-08, 1.46612537e-03, 2.36757410e-06],\n",
       "       [5.64154235e-12, 8.50698678e-12, 1.00000000e+00, 1.08006069e-18],\n",
       "       [9.99998569e-01, 3.62694563e-09, 1.38781502e-06, 8.78939976e-11],\n",
       "       [9.99999881e-01, 8.52321307e-08, 8.92683957e-14, 3.26870508e-09],\n",
       "       [9.99995351e-01, 1.39108582e-08, 3.60097647e-06, 1.00198076e-06],\n",
       "       [9.93897021e-01, 1.53443143e-05, 2.17580958e-03, 3.91183281e-03],\n",
       "       [1.73349544e-01, 2.28703097e-02, 8.03780079e-01, 1.53698423e-07],\n",
       "       [9.96883571e-01, 9.84154212e-06, 2.55871697e-07, 3.10637569e-03],\n",
       "       [6.62616193e-02, 2.89874862e-07, 9.33737993e-01, 6.42616223e-13],\n",
       "       [9.94130313e-01, 2.99778558e-09, 5.86961582e-03, 8.06349654e-09],\n",
       "       [9.91048455e-01, 4.27865243e-10, 8.95153172e-03, 8.20863668e-13],\n",
       "       [1.00000000e+00, 1.89152135e-17, 5.28110575e-14, 2.14801621e-09],\n",
       "       [9.82144833e-01, 1.36600565e-02, 2.77010531e-05, 4.16732533e-03],\n",
       "       [9.99469459e-01, 6.22451873e-12, 5.30589721e-04, 9.10840447e-15],\n",
       "       [1.00000000e+00, 6.38607256e-09, 1.23182950e-10, 1.81049752e-14],\n",
       "       [1.06118944e-06, 1.64299287e-04, 9.99834538e-01, 1.02121049e-08],\n",
       "       [4.13348258e-01, 1.78700648e-02, 5.68781734e-01, 5.51096841e-17],\n",
       "       [4.57092980e-03, 3.30728906e-15, 9.95429039e-01, 1.16174053e-19],\n",
       "       [9.72141862e-01, 1.06684914e-04, 2.77502406e-02, 1.25381075e-06],\n",
       "       [2.95914855e-04, 1.77770871e-05, 9.95482087e-01, 4.20420803e-03],\n",
       "       [9.42114472e-01, 5.93651295e-10, 5.78854941e-02, 8.59623553e-11],\n",
       "       [9.99999881e-01, 9.24314634e-08, 2.38464214e-11, 4.48393889e-18],\n",
       "       [9.99412417e-01, 5.86798240e-04, 8.26151059e-09, 8.03613318e-07],\n",
       "       [3.90627726e-08, 2.50794160e-11, 1.00000000e+00, 1.24252706e-16],\n",
       "       [9.99579728e-01, 1.27001559e-13, 1.04607423e-09, 4.20313299e-04],\n",
       "       [9.99999404e-01, 2.12176698e-13, 5.65987591e-07, 1.14177000e-14],\n",
       "       [1.00000000e+00, 5.19423643e-28, 1.19522291e-16, 1.95432724e-26],\n",
       "       [9.77955401e-01, 1.07294184e-07, 2.20444705e-02, 3.57336525e-08],\n",
       "       [9.50879574e-01, 3.54803028e-03, 4.55723666e-02, 3.41806028e-09],\n",
       "       [4.80903894e-01, 9.04436968e-03, 5.09985268e-01, 6.64579929e-05],\n",
       "       [9.99976397e-01, 1.99480782e-14, 2.35637617e-05, 1.42313583e-11],\n",
       "       [1.00000000e+00, 5.17307995e-20, 3.78537912e-08, 1.51945700e-17],\n",
       "       [2.80275196e-02, 2.65144262e-09, 9.71972525e-01, 8.86628757e-11],\n",
       "       [1.00000000e+00, 4.67119579e-17, 1.23940547e-08, 2.36851141e-17],\n",
       "       [9.52052295e-01, 1.46383339e-13, 4.79476526e-02, 9.24375950e-20],\n",
       "       [1.38494088e-14, 5.91713505e-20, 1.00000000e+00, 6.54301548e-24],\n",
       "       [3.24968896e-05, 9.90969360e-01, 8.99814721e-03, 1.01943680e-08],\n",
       "       [9.99037027e-01, 2.79074561e-13, 9.63024329e-04, 1.51435396e-12],\n",
       "       [9.99017239e-01, 1.53627434e-06, 9.81204095e-04, 3.28817462e-09],\n",
       "       [9.82477486e-01, 9.86809141e-07, 5.03992586e-18, 1.75215714e-02],\n",
       "       [1.76161109e-06, 4.90524404e-20, 9.99998212e-01, 1.73737578e-19],\n",
       "       [5.61284795e-02, 4.85868856e-09, 9.43871498e-01, 9.98203256e-13],\n",
       "       [4.07051630e-02, 7.42794368e-12, 9.59294796e-01, 6.52302767e-10],\n",
       "       [9.99999642e-01, 3.84810846e-07, 2.64851644e-13, 1.72021342e-10],\n",
       "       [9.31786597e-02, 7.82188545e-06, 9.06813622e-01, 3.43939148e-11],\n",
       "       [4.87548550e-06, 5.94793215e-19, 9.99995112e-01, 1.42405204e-16],\n",
       "       [7.36592570e-03, 4.46212851e-03, 9.88171995e-01, 9.20887633e-09],\n",
       "       [9.99999166e-01, 4.61014005e-23, 8.65821562e-07, 3.27858332e-15],\n",
       "       [1.93686697e-06, 1.05580158e-15, 9.99998093e-01, 7.54065705e-19],\n",
       "       [2.19344756e-08, 4.75481521e-16, 1.00000000e+00, 6.24202058e-20],\n",
       "       [9.97240424e-01, 6.82452878e-07, 2.75890855e-03, 1.64408792e-10],\n",
       "       [1.72282438e-10, 8.52457572e-20, 7.68004629e-19, 1.00000000e+00],\n",
       "       [1.72282438e-10, 8.52457572e-20, 7.68004629e-19, 1.00000000e+00],\n",
       "       [3.77708883e-21, 3.50204840e-25, 7.63801319e-24, 1.00000000e+00],\n",
       "       [3.77708883e-21, 3.50204840e-25, 7.63801319e-24, 1.00000000e+00],\n",
       "       [1.47869758e-10, 5.83411585e-20, 5.39563658e-19, 1.00000000e+00],\n",
       "       [1.05900371e-20, 4.65888037e-25, 1.66806551e-24, 1.00000000e+00],\n",
       "       [1.05900371e-20, 4.65888037e-25, 1.66806551e-24, 1.00000000e+00],\n",
       "       [1.47869758e-10, 5.83411585e-20, 5.39563658e-19, 1.00000000e+00],\n",
       "       [6.63454819e-14, 4.88166740e-16, 1.37148557e-16, 1.00000000e+00],\n",
       "       [6.63454819e-14, 4.88166740e-16, 1.37148557e-16, 1.00000000e+00],\n",
       "       [2.22409244e-11, 5.63302084e-14, 3.56136724e-13, 1.00000000e+00],\n",
       "       [2.22409244e-11, 5.63302084e-14, 3.56136724e-13, 1.00000000e+00],\n",
       "       [4.78112016e-14, 6.17908523e-16, 1.14107289e-16, 1.00000000e+00],\n",
       "       [3.37689078e-11, 7.42534086e-14, 1.73454090e-12, 1.00000000e+00],\n",
       "       [3.37689078e-11, 7.42534086e-14, 1.73454090e-12, 1.00000000e+00],\n",
       "       [4.78112016e-14, 6.17908523e-16, 1.14107289e-16, 1.00000000e+00],\n",
       "       [0.00000000e+00, 0.00000000e+00, 0.00000000e+00, 1.00000000e+00],\n",
       "       [0.00000000e+00, 0.00000000e+00, 0.00000000e+00, 1.00000000e+00],\n",
       "       [0.00000000e+00, 0.00000000e+00, 0.00000000e+00, 1.00000000e+00],\n",
       "       [0.00000000e+00, 0.00000000e+00, 0.00000000e+00, 1.00000000e+00],\n",
       "       [0.00000000e+00, 0.00000000e+00, 0.00000000e+00, 1.00000000e+00],\n",
       "       [0.00000000e+00, 0.00000000e+00, 0.00000000e+00, 1.00000000e+00],\n",
       "       [0.00000000e+00, 0.00000000e+00, 0.00000000e+00, 1.00000000e+00],\n",
       "       [0.00000000e+00, 0.00000000e+00, 0.00000000e+00, 1.00000000e+00],\n",
       "       [9.99944806e-01, 2.96354642e-06, 1.95450684e-05, 3.26252157e-05],\n",
       "       [7.06387097e-17, 1.26611449e-18, 1.83712163e-30, 1.00000000e+00],\n",
       "       [1.00000000e+00, 0.00000000e+00, 0.00000000e+00, 4.90487082e-08],\n",
       "       [4.62329610e-13, 6.92154321e-23, 0.00000000e+00, 1.00000000e+00],\n",
       "       [1.58433351e-04, 7.96486190e-17, 3.33382181e-21, 9.99841571e-01],\n",
       "       [2.14952256e-33, 2.83968027e-34, 0.00000000e+00, 1.00000000e+00],\n",
       "       [2.14952256e-33, 2.83968027e-34, 0.00000000e+00, 1.00000000e+00],\n",
       "       [0.00000000e+00, 0.00000000e+00, 0.00000000e+00, 1.00000000e+00],\n",
       "       [0.00000000e+00, 0.00000000e+00, 0.00000000e+00, 1.00000000e+00],\n",
       "       [2.14952256e-33, 2.83968027e-34, 0.00000000e+00, 1.00000000e+00],\n",
       "       [0.00000000e+00, 0.00000000e+00, 0.00000000e+00, 1.00000000e+00],\n",
       "       [2.14952256e-33, 2.83968027e-34, 0.00000000e+00, 1.00000000e+00],\n",
       "       [6.44482275e-38, 8.50295174e-26, 0.00000000e+00, 1.00000000e+00],\n",
       "       [6.44482275e-38, 8.50295174e-26, 0.00000000e+00, 1.00000000e+00],\n",
       "       [7.11350930e-27, 1.24717770e-36, 0.00000000e+00, 1.00000000e+00],\n",
       "       [7.11350930e-27, 1.24717770e-36, 0.00000000e+00, 1.00000000e+00],\n",
       "       [6.44482275e-38, 8.50295174e-26, 0.00000000e+00, 1.00000000e+00],\n",
       "       [7.11350930e-27, 1.24717770e-36, 0.00000000e+00, 1.00000000e+00],\n",
       "       [7.11350930e-27, 1.24717770e-36, 0.00000000e+00, 1.00000000e+00],\n",
       "       [6.44482275e-38, 8.50295174e-26, 0.00000000e+00, 1.00000000e+00],\n",
       "       [0.00000000e+00, 0.00000000e+00, 0.00000000e+00, 1.00000000e+00],\n",
       "       [0.00000000e+00, 0.00000000e+00, 0.00000000e+00, 1.00000000e+00],\n",
       "       [0.00000000e+00, 0.00000000e+00, 0.00000000e+00, 1.00000000e+00],\n",
       "       [0.00000000e+00, 0.00000000e+00, 0.00000000e+00, 1.00000000e+00],\n",
       "       [0.00000000e+00, 0.00000000e+00, 0.00000000e+00, 1.00000000e+00],\n",
       "       [0.00000000e+00, 0.00000000e+00, 0.00000000e+00, 1.00000000e+00],\n",
       "       [0.00000000e+00, 0.00000000e+00, 0.00000000e+00, 1.00000000e+00],\n",
       "       [0.00000000e+00, 0.00000000e+00, 0.00000000e+00, 1.00000000e+00],\n",
       "       [4.96722043e-01, 3.03680747e-04, 2.68436855e-26, 5.02974272e-01],\n",
       "       [2.06997451e-13, 1.18079047e-10, 1.00000000e+00, 0.00000000e+00]],\n",
       "      dtype=float32)"
      ]
     },
     "execution_count": 137,
     "metadata": {},
     "output_type": "execute_result"
    }
   ],
   "source": [
    "predictions = model.predict(X_test)\n",
    "predictions"
   ]
  },
  {
   "cell_type": "code",
   "execution_count": 150,
   "id": "d4f3ab39",
   "metadata": {},
   "outputs": [
    {
     "data": {
      "text/plain": [
       "1"
      ]
     },
     "execution_count": 150,
     "metadata": {},
     "output_type": "execute_result"
    }
   ],
   "source": [
    "np.argmax(predictions[1])"
   ]
  },
  {
   "cell_type": "code",
   "execution_count": 151,
   "id": "2e7889de",
   "metadata": {},
   "outputs": [
    {
     "data": {
      "text/plain": [
       "1"
      ]
     },
     "execution_count": 151,
     "metadata": {},
     "output_type": "execute_result"
    }
   ],
   "source": [
    "y_test[1]"
   ]
  },
  {
   "cell_type": "code",
   "execution_count": null,
   "id": "561b1294",
   "metadata": {},
   "outputs": [],
   "source": []
  }
 ],
 "metadata": {
  "kernelspec": {
   "display_name": "myenv",
   "language": "python",
   "name": "myenv"
  },
  "language_info": {
   "codemirror_mode": {
    "name": "ipython",
    "version": 3
   },
   "file_extension": ".py",
   "mimetype": "text/x-python",
   "name": "python",
   "nbconvert_exporter": "python",
   "pygments_lexer": "ipython3",
   "version": "3.11.3"
  }
 },
 "nbformat": 4,
 "nbformat_minor": 5
}
